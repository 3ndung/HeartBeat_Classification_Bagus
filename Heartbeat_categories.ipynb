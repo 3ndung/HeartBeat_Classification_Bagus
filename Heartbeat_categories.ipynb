{
  "nbformat": 4,
  "nbformat_minor": 0,
  "metadata": {
    "kernelspec": {
      "display_name": "Python 3",
      "language": "python",
      "name": "python3"
    },
    "language_info": {
      "codemirror_mode": {
        "name": "ipython",
        "version": 3
      },
      "file_extension": ".py",
      "mimetype": "text/x-python",
      "name": "python",
      "nbconvert_exporter": "python",
      "pygments_lexer": "ipython3",
      "version": "3.6.7"
    },
    "colab": {
      "name": "Heartbeat_categories.ipynb",
      "provenance": []
    }
  },
  "cells": [
    {
      "cell_type": "code",
      "metadata": {
        "id": "or-89ml1ilLE",
        "colab_type": "code",
        "colab": {}
      },
      "source": [
        "import librosa\n",
        "import librosa.display as libdisplay\n",
        "import numpy as np\n",
        "import os\n",
        "import pandas as pd\n",
        "import matplotlib.pyplot as plt"
      ],
      "execution_count": 0,
      "outputs": []
    },
    {
      "cell_type": "markdown",
      "metadata": {
        "id": "1n1kAjTADYqt",
        "colab_type": "text"
      },
      "source": [
        "# **import Library Penting **"
      ]
    },
    {
      "cell_type": "code",
      "metadata": {
        "id": "WTBdo2OzilLO",
        "colab_type": "code",
        "colab": {}
      },
      "source": [
        "max_pad_len = 388\n",
        "def extract_features(file_name):\n",
        "   \n",
        "    try:\n",
        "        audio, sample_rate = librosa.load(file_name, res_type='kaiser_fast') \n",
        "        mfccs = librosa.feature.mfcc(y=audio, sr=sample_rate, n_mfcc=40)\n",
        "        pad_width = max_pad_len - mfccs.shape[1]\n",
        "        mfccs = np.pad(mfccs, pad_width=((0, 0), (0, pad_width)), mode='constant')\n",
        "        \n",
        "    except Exception as e:\n",
        "        print(\"Error encountered while parsing file: \", file_name)\n",
        "        return None \n",
        "     \n",
        "    return mfccs"
      ],
      "execution_count": 0,
      "outputs": []
    },
    {
      "cell_type": "code",
      "metadata": {
        "id": "JvVwBTp5i1EW",
        "colab_type": "code",
        "outputId": "634c8cf9-0efd-4d66-dd4a-3832da822eeb",
        "colab": {
          "base_uri": "https://localhost:8080/",
          "height": 122
        }
      },
      "source": [
        "from google.colab import drive\n",
        "drive.mount('/content/drive')"
      ],
      "execution_count": 2,
      "outputs": [
        {
          "output_type": "stream",
          "text": [
            "Go to this URL in a browser: https://accounts.google.com/o/oauth2/auth?client_id=947318989803-6bn6qk8qdgf4n4g3pfee6491hc0brc4i.apps.googleusercontent.com&redirect_uri=urn%3aietf%3awg%3aoauth%3a2.0%3aoob&response_type=code&scope=email%20https%3a%2f%2fwww.googleapis.com%2fauth%2fdocs.test%20https%3a%2f%2fwww.googleapis.com%2fauth%2fdrive%20https%3a%2f%2fwww.googleapis.com%2fauth%2fdrive.photos.readonly%20https%3a%2f%2fwww.googleapis.com%2fauth%2fpeopleapi.readonly\n",
            "\n",
            "Enter your authorization code:\n",
            "··········\n",
            "Mounted at /content/drive\n"
          ],
          "name": "stdout"
        }
      ]
    },
    {
      "cell_type": "code",
      "metadata": {
        "id": "42BwmxQ2ilLT",
        "colab_type": "code",
        "colab": {}
      },
      "source": [
        "dataset_path = '/content/drive/My Drive/SOUND/set_a/'\n",
        "metadata = pd.read_csv('/content/drive/My Drive/SOUND/DATASET_A_NEW.csv')\n",
        "\n",
        "features = []"
      ],
      "execution_count": 0,
      "outputs": []
    },
    {
      "cell_type": "code",
      "metadata": {
        "id": "9Wrrdtbt01qv",
        "colab_type": "code",
        "outputId": "0cb428eb-5818-458a-efb8-092d1a2a47cb",
        "colab": {
          "base_uri": "https://localhost:8080/",
          "height": 34
        }
      },
      "source": [
        "len(mfccs)"
      ],
      "execution_count": 0,
      "outputs": [
        {
          "output_type": "execute_result",
          "data": {
            "text/plain": [
              "40"
            ]
          },
          "metadata": {
            "tags": []
          },
          "execution_count": 37
        }
      ]
    },
    {
      "cell_type": "code",
      "metadata": {
        "id": "3OuyjfSv1E8X",
        "colab_type": "code",
        "outputId": "687178f1-0073-4f6f-9815-bf4faa9d93d6",
        "colab": {
          "base_uri": "https://localhost:8080/",
          "height": 34
        }
      },
      "source": [
        "max_pad_len - mfccs.shape[1]"
      ],
      "execution_count": 0,
      "outputs": [
        {
          "output_type": "execute_result",
          "data": {
            "text/plain": [
              "-214"
            ]
          },
          "metadata": {
            "tags": []
          },
          "execution_count": 35
        }
      ]
    },
    {
      "cell_type": "code",
      "metadata": {
        "id": "BOhV9c5HojoS",
        "colab_type": "code",
        "outputId": "b0ef4885-7c02-424d-b546-5f799e230942",
        "colab": {
          "base_uri": "https://localhost:8080/",
          "height": 34
        }
      },
      "source": [
        "import glob, os\n",
        "os.chdir(\"/content/drive/My Drive/SOUND/set_a/\")\n",
        "\n",
        "\n",
        "MAX_LEN_MFCC = []\n",
        "\n",
        "for file in glob.glob(\"*.wav\"):\n",
        "    #print(file)\n",
        "    #extract_features(file)\n",
        "\n",
        "    audio,sample_rate = librosa.load(file, res_type='kaiser_fast')\n",
        "    mfccs = librosa.feature.mfcc(y=audio, sr=sample_rate, n_mfcc=40)\n",
        "    #print(mfccs.shape[1])\n",
        "    MAX_LEN_MFCC.append(mfccs.shape[1])\n",
        "\n",
        "print(max(MAX_LEN_MFCC)   )\n",
        "\n",
        "# dari data dapet 388 len nya "
      ],
      "execution_count": 13,
      "outputs": [
        {
          "output_type": "stream",
          "text": [
            "388\n"
          ],
          "name": "stdout"
        }
      ]
    },
    {
      "cell_type": "code",
      "metadata": {
        "id": "til05EjAilLb",
        "colab_type": "code",
        "colab": {}
      },
      "source": [
        "for index, row in metadata.iterrows():\n",
        "    file_name = os.path.join(os.path.abspath(dataset_path),str(row['fname']))\n",
        "    \n",
        "    class_label = row['fname']\n",
        "    data = extract_features(file_name)\n",
        "    \n",
        "    features.append([data,class_label])"
      ],
      "execution_count": 0,
      "outputs": []
    },
    {
      "cell_type": "code",
      "metadata": {
        "id": "tZJISzBw_LxT",
        "colab_type": "code",
        "colab": {
          "base_uri": "https://localhost:8080/",
          "height": 34
        },
        "outputId": "0f463e27-0ea1-47ce-f2ba-cdd1df2c591e"
      },
      "source": [
        "DATAX = pd.DataFrame(features, columns=['feature','class_label'])\n",
        "\n",
        "print('Finished feature extraction from ', len(DATAX), ' files')"
      ],
      "execution_count": 32,
      "outputs": [
        {
          "output_type": "stream",
          "text": [
            "Finished feature extraction from  496  files\n"
          ],
          "name": "stdout"
        }
      ]
    },
    {
      "cell_type": "code",
      "metadata": {
        "id": "qkyk9JubDzHP",
        "colab_type": "code",
        "colab": {}
      },
      "source": [
        "str(DATAX['class_label'][0]).split('__')[0]\n",
        "\n",
        "LABEL = []\n",
        "\n",
        "for i in range(len(DATAX)):\n",
        "  str(DATAX['class_label'][i]).split('__')[0]\n",
        "  LABEL.append(str(DATAX['class_label'][i]).split('__')[0])\n"
      ],
      "execution_count": 0,
      "outputs": []
    },
    {
      "cell_type": "code",
      "metadata": {
        "id": "Qhd_G3uWEhtp",
        "colab_type": "code",
        "colab": {}
      },
      "source": [
        "DATAX['LABEL'] = LABEL\n",
        "\n",
        "NEW_DATAX = DATAX.drop(columns=['class_label'])\n",
        "\n",
        "NEW_DATAX.to_csv(r'NEW_DATAX.csv')"
      ],
      "execution_count": 0,
      "outputs": []
    },
    {
      "cell_type": "code",
      "metadata": {
        "id": "-G6L4vxUHTHJ",
        "colab_type": "code",
        "colab": {
          "base_uri": "https://localhost:8080/",
          "height": 419
        },
        "outputId": "634a4c44-635e-4ecc-cba6-45c5375a70bb"
      },
      "source": [
        "NEW_DATAX"
      ],
      "execution_count": 50,
      "outputs": [
        {
          "output_type": "execute_result",
          "data": {
            "text/html": [
              "<div>\n",
              "<style scoped>\n",
              "    .dataframe tbody tr th:only-of-type {\n",
              "        vertical-align: middle;\n",
              "    }\n",
              "\n",
              "    .dataframe tbody tr th {\n",
              "        vertical-align: top;\n",
              "    }\n",
              "\n",
              "    .dataframe thead th {\n",
              "        text-align: right;\n",
              "    }\n",
              "</style>\n",
              "<table border=\"1\" class=\"dataframe\">\n",
              "  <thead>\n",
              "    <tr style=\"text-align: right;\">\n",
              "      <th></th>\n",
              "      <th>feature</th>\n",
              "      <th>LABEL</th>\n",
              "    </tr>\n",
              "  </thead>\n",
              "  <tbody>\n",
              "    <tr>\n",
              "      <th>0</th>\n",
              "      <td>[[-629.3815027521428, -614.3528398171517, -616...</td>\n",
              "      <td>artifact</td>\n",
              "    </tr>\n",
              "    <tr>\n",
              "      <th>1</th>\n",
              "      <td>[[-990.9772750518831, -990.1641333446495, -989...</td>\n",
              "      <td>artifact</td>\n",
              "    </tr>\n",
              "    <tr>\n",
              "      <th>2</th>\n",
              "      <td>[[-632.0832226192613, -622.4774297438613, -623...</td>\n",
              "      <td>artifact</td>\n",
              "    </tr>\n",
              "    <tr>\n",
              "      <th>3</th>\n",
              "      <td>[[-322.1109746901032, -295.3795520831543, -277...</td>\n",
              "      <td>artifact</td>\n",
              "    </tr>\n",
              "    <tr>\n",
              "      <th>4</th>\n",
              "      <td>[[-294.6576987096496, -292.31416581691946, -28...</td>\n",
              "      <td>artifact</td>\n",
              "    </tr>\n",
              "    <tr>\n",
              "      <th>...</th>\n",
              "      <td>...</td>\n",
              "      <td>...</td>\n",
              "    </tr>\n",
              "    <tr>\n",
              "      <th>491</th>\n",
              "      <td>[[-522.8667459421804, -491.1161367555086, -468...</td>\n",
              "      <td>normal</td>\n",
              "    </tr>\n",
              "    <tr>\n",
              "      <th>492</th>\n",
              "      <td>[[-497.0974694148711, -494.25662561002684, -49...</td>\n",
              "      <td>normal</td>\n",
              "    </tr>\n",
              "    <tr>\n",
              "      <th>493</th>\n",
              "      <td>[[-510.270796132117, -517.8475036795197, -516....</td>\n",
              "      <td>normal</td>\n",
              "    </tr>\n",
              "    <tr>\n",
              "      <th>494</th>\n",
              "      <td>[[-502.076714187306, -493.8695590658039, -495....</td>\n",
              "      <td>normal</td>\n",
              "    </tr>\n",
              "    <tr>\n",
              "      <th>495</th>\n",
              "      <td>[[-512.179391417927, -510.78423086471395, -506...</td>\n",
              "      <td>normal</td>\n",
              "    </tr>\n",
              "  </tbody>\n",
              "</table>\n",
              "<p>496 rows × 2 columns</p>\n",
              "</div>"
            ],
            "text/plain": [
              "                                               feature     LABEL\n",
              "0    [[-629.3815027521428, -614.3528398171517, -616...  artifact\n",
              "1    [[-990.9772750518831, -990.1641333446495, -989...  artifact\n",
              "2    [[-632.0832226192613, -622.4774297438613, -623...  artifact\n",
              "3    [[-322.1109746901032, -295.3795520831543, -277...  artifact\n",
              "4    [[-294.6576987096496, -292.31416581691946, -28...  artifact\n",
              "..                                                 ...       ...\n",
              "491  [[-522.8667459421804, -491.1161367555086, -468...    normal\n",
              "492  [[-497.0974694148711, -494.25662561002684, -49...    normal\n",
              "493  [[-510.270796132117, -517.8475036795197, -516....    normal\n",
              "494  [[-502.076714187306, -493.8695590658039, -495....    normal\n",
              "495  [[-512.179391417927, -510.78423086471395, -506...    normal\n",
              "\n",
              "[496 rows x 2 columns]"
            ]
          },
          "metadata": {
            "tags": []
          },
          "execution_count": 50
        }
      ]
    },
    {
      "cell_type": "code",
      "metadata": {
        "id": "LSe1oAVGKfl5",
        "colab_type": "code",
        "colab": {}
      },
      "source": [
        "from __future__ import absolute_import, division, print_function, unicode_literals\n",
        "import tensorflow as tf\n",
        "from tensorflow.keras import datasets, layers, models, optimizers, utils\n",
        "import matplotlib.pyplot as plt\n",
        "from sklearn import metrics "
      ],
      "execution_count": 0,
      "outputs": []
    },
    {
      "cell_type": "code",
      "metadata": {
        "id": "uFk9SfSUK-aR",
        "colab_type": "code",
        "colab": {}
      },
      "source": [
        "from sklearn.preprocessing import LabelEncoder\n",
        "\n",
        "X = np.array(NEW_DATAX.feature.tolist())\n",
        "y = np.array(NEW_DATAX.LABEL.tolist())"
      ],
      "execution_count": 0,
      "outputs": []
    },
    {
      "cell_type": "code",
      "metadata": {
        "id": "mkLWw8SZLKkm",
        "colab_type": "code",
        "colab": {}
      },
      "source": [
        "le = LabelEncoder()\n",
        "yy = tf.keras.utils.to_categorical(le.fit_transform(y))"
      ],
      "execution_count": 0,
      "outputs": []
    },
    {
      "cell_type": "code",
      "metadata": {
        "id": "6nLqhP0xL80C",
        "colab_type": "code",
        "colab": {}
      },
      "source": [
        "from sklearn.model_selection import train_test_split \n",
        "\n",
        "x_train, x_test, y_train, y_test = train_test_split(X, yy, test_size=0.2, random_state = 42)"
      ],
      "execution_count": 0,
      "outputs": []
    },
    {
      "cell_type": "code",
      "metadata": {
        "id": "AM8wjgJpMoc4",
        "colab_type": "code",
        "colab": {
          "base_uri": "https://localhost:8080/",
          "height": 119
        },
        "outputId": "872a2963-81d5-4982-f334-6a95bc3605b0"
      },
      "source": [
        "#Untuk menentukan column nanti di model\n",
        "\n",
        "print('NEW_DATAX shape >> {}'.format(NEW_DATAX.shape))\n",
        "print('len X_train >> {}'.format(len(x_train)))\n",
        "print('len X_test >> {}'.format(len(x_test)))\n",
        "\n",
        "# untuk dapetin num_rows, num_clumns d\n",
        "print('X_train shape >> {}'.format(x_train.shape))\n",
        "\n",
        "# len(mfccs) --> nanti kita gunakan untuk num_rows\n",
        "# max(MAX_LEN_MFCC) --> dibunakan untuk num_columns & max_pad_len pada fungsi extract_features\n",
        "print('Num_Rows >> {}'.format(len(mfccs)))\n",
        "print('Num_Columns >> {}'.format(max(MAX_LEN_MFCC)))"
      ],
      "execution_count": 125,
      "outputs": [
        {
          "output_type": "stream",
          "text": [
            "NEW_DATAX shape >> (496, 2)\n",
            "len X_train >> 396\n",
            "len X_test >> 100\n",
            "X_train shape >> (396, 40, 388, 1)\n",
            "Num_Rows >> 40\n",
            "Num_Columns >> 388\n"
          ],
          "name": "stdout"
        }
      ]
    },
    {
      "cell_type": "markdown",
      "metadata": {
        "id": "zywNnGgRFSZn",
        "colab_type": "text"
      },
      "source": [
        "# **Mempersiapkan nilai untuk Train & Test**"
      ]
    },
    {
      "cell_type": "code",
      "metadata": {
        "id": "X6IImLzjPmZ0",
        "colab_type": "code",
        "colab": {}
      },
      "source": [
        "num_rows = 40\n",
        "num_columns = 388\n",
        "num_channels = 1\n",
        "\n",
        "x_train = x_train.reshape(x_train.shape[0], num_rows, num_columns, num_channels)\n",
        "x_test = x_test.reshape(x_test.shape[0], num_rows, num_columns, num_channels)\n",
        "\n",
        "num_labels = yy.shape[1]\n",
        "filter_size = 2"
      ],
      "execution_count": 0,
      "outputs": []
    },
    {
      "cell_type": "markdown",
      "metadata": {
        "id": "qkqR6SFhFb_4",
        "colab_type": "text"
      },
      "source": [
        "#  Membuat MODEL (**CNN MODEL**) "
      ]
    },
    {
      "cell_type": "code",
      "metadata": {
        "id": "SLLQaEIaRLtC",
        "colab_type": "code",
        "colab": {}
      },
      "source": [
        "model = tf.keras.models.Sequential()\n",
        "model.add(tf.keras.layers.Conv2D(filters=16, kernel_size=2, input_shape=(num_rows, num_columns, num_channels), activation='relu'))\n",
        "model.add(tf.keras.layers.MaxPooling2D(pool_size=2))\n",
        "model.add(tf.keras.layers.Dropout(0.2))\n",
        "\n",
        "model.add(tf.keras.layers.Conv2D(filters=32, kernel_size=2, activation='relu'))\n",
        "model.add(tf.keras.layers.MaxPooling2D(pool_size=2))\n",
        "model.add(tf.keras.layers.Dropout(0.2))\n",
        "\n",
        "model.add(tf.keras.layers.Conv2D(filters=64, kernel_size=2, activation='relu'))\n",
        "model.add(tf.keras.layers.MaxPooling2D(pool_size=2))\n",
        "model.add(tf.keras.layers.Dropout(0.2))\n",
        "\n",
        "model.add(tf.keras.layers.Conv2D(filters=128, kernel_size=2, activation='relu'))\n",
        "model.add(tf.keras.layers.MaxPooling2D(pool_size=2))\n",
        "model.add(tf.keras.layers.Dropout(0.2))\n",
        "model.add(tf.keras.layers.GlobalAveragePooling2D())\n",
        "\n",
        "model.add(tf.keras.layers.Dense(num_labels, activation='softmax'))"
      ],
      "execution_count": 0,
      "outputs": []
    },
    {
      "cell_type": "markdown",
      "metadata": {
        "id": "bcCM1SniFxea",
        "colab_type": "text"
      },
      "source": [
        "# **Meng-compile Model**"
      ]
    },
    {
      "cell_type": "code",
      "metadata": {
        "id": "QAE9gjO-S1fH",
        "colab_type": "code",
        "colab": {}
      },
      "source": [
        "model.compile(loss='categorical_crossentropy', metrics=['accuracy'], optimizer='adam')"
      ],
      "execution_count": 0,
      "outputs": []
    },
    {
      "cell_type": "markdown",
      "metadata": {
        "id": "eG0fOBI4F5d3",
        "colab_type": "text"
      },
      "source": [
        "# **Summary Model**"
      ]
    },
    {
      "cell_type": "code",
      "metadata": {
        "id": "KT-wQO_7S6aU",
        "colab_type": "code",
        "colab": {
          "base_uri": "https://localhost:8080/",
          "height": 663
        },
        "outputId": "a308d738-8d63-4341-cb36-70b15b1396fe"
      },
      "source": [
        "model.summary()\n",
        "\n",
        "# Calculate pre-training accuracy \n",
        "score = model.evaluate(x_test, y_test, verbose=1)\n",
        "accuracy = 100*score[1]\n",
        "\n",
        "print(\"Pre-training accuracy: %.4f%%\" % accuracy)"
      ],
      "execution_count": 87,
      "outputs": [
        {
          "output_type": "stream",
          "text": [
            "Model: \"sequential_6\"\n",
            "_________________________________________________________________\n",
            "Layer (type)                 Output Shape              Param #   \n",
            "=================================================================\n",
            "conv2d_10 (Conv2D)           (None, 39, 387, 16)       80        \n",
            "_________________________________________________________________\n",
            "max_pooling2d_9 (MaxPooling2 (None, 19, 193, 16)       0         \n",
            "_________________________________________________________________\n",
            "dropout_8 (Dropout)          (None, 19, 193, 16)       0         \n",
            "_________________________________________________________________\n",
            "conv2d_11 (Conv2D)           (None, 18, 192, 32)       2080      \n",
            "_________________________________________________________________\n",
            "max_pooling2d_10 (MaxPooling (None, 9, 96, 32)         0         \n",
            "_________________________________________________________________\n",
            "dropout_9 (Dropout)          (None, 9, 96, 32)         0         \n",
            "_________________________________________________________________\n",
            "conv2d_12 (Conv2D)           (None, 8, 95, 64)         8256      \n",
            "_________________________________________________________________\n",
            "max_pooling2d_11 (MaxPooling (None, 4, 47, 64)         0         \n",
            "_________________________________________________________________\n",
            "dropout_10 (Dropout)         (None, 4, 47, 64)         0         \n",
            "_________________________________________________________________\n",
            "conv2d_13 (Conv2D)           (None, 3, 46, 128)        32896     \n",
            "_________________________________________________________________\n",
            "max_pooling2d_12 (MaxPooling (None, 1, 23, 128)        0         \n",
            "_________________________________________________________________\n",
            "dropout_11 (Dropout)         (None, 1, 23, 128)        0         \n",
            "_________________________________________________________________\n",
            "global_average_pooling2d_1 ( (None, 128)               0         \n",
            "_________________________________________________________________\n",
            "dense (Dense)                (None, 4)                 516       \n",
            "=================================================================\n",
            "Total params: 43,828\n",
            "Trainable params: 43,828\n",
            "Non-trainable params: 0\n",
            "_________________________________________________________________\n",
            "100/100 [==============================] - 1s 5ms/sample - loss: 7.6604 - acc: 0.1100\n",
            "Pre-training accuracy: 11.0000%\n"
          ],
          "name": "stdout"
        }
      ]
    },
    {
      "cell_type": "markdown",
      "metadata": {
        "id": "nhuAJ3V_GDT5",
        "colab_type": "text"
      },
      "source": [
        "# **Training Model** ( dengan beberapa kali iterasi/ epoch )\n"
      ]
    },
    {
      "cell_type": "markdown",
      "metadata": {
        "id": "TDZrjddbGg_m",
        "colab_type": "text"
      },
      "source": [
        "model disimpan dengan nama 'sound_classification_Bagus.hdf5' *bisa disesuaikan sik\n"
      ]
    },
    {
      "cell_type": "code",
      "metadata": {
        "id": "9GT4vzUOTUTk",
        "colab_type": "code",
        "colab": {
          "base_uri": "https://localhost:8080/",
          "height": 1000
        },
        "outputId": "ad335233-0828-4f80-d40f-b824823ff98d"
      },
      "source": [
        "#tf.keras.callbacks.ModelCheckpoint\n",
        "\n",
        "from datetime import datetime \n",
        "\n",
        "#num_epochs = 500\n",
        "#num_batch_size = 128\n",
        "\n",
        "#num_epochs = 500\n",
        "#num_batch_size = 256\n",
        "\n",
        "#num_epochs = 100\n",
        "#num_batch_size = 256\n",
        "\n",
        "num_epochs = 15\n",
        "num_batch_size = 256\n",
        "\n",
        "checkpointer = tf.keras.callbacks.ModelCheckpoint(filepath='sound_classification_Bagus.hdf5', \n",
        "                               verbose=1, save_best_only=True)\n",
        "start = datetime.now()\n",
        "\n",
        "model.fit(x_train, y_train, batch_size=num_batch_size, epochs=num_epochs, validation_data=(x_test, y_test), callbacks=[checkpointer], verbose=1)\n",
        "\n",
        "\n",
        "duration = datetime.now() - start\n",
        "print(\"Training completed in time: \", duration)"
      ],
      "execution_count": 114,
      "outputs": [
        {
          "output_type": "stream",
          "text": [
            "Train on 396 samples, validate on 100 samples\n",
            "Epoch 1/15\n",
            "256/396 [==================>...........] - ETA: 1s - loss: 0.0380 - acc: 0.9805\n",
            "Epoch 00001: val_loss improved from inf to 0.24852, saving model to sound_classification_Bagus.hdf5\n",
            "396/396 [==============================] - 5s 12ms/sample - loss: 0.0434 - acc: 0.9773 - val_loss: 0.2485 - val_acc: 0.9000\n",
            "Epoch 2/15\n",
            "256/396 [==================>...........] - ETA: 1s - loss: 0.0417 - acc: 0.9844\n",
            "Epoch 00002: val_loss did not improve from 0.24852\n",
            "396/396 [==============================] - 4s 10ms/sample - loss: 0.0423 - acc: 0.9848 - val_loss: 0.2813 - val_acc: 0.8600\n",
            "Epoch 3/15\n",
            "256/396 [==================>...........] - ETA: 1s - loss: 0.0445 - acc: 0.9766\n",
            "Epoch 00003: val_loss did not improve from 0.24852\n",
            "396/396 [==============================] - 4s 10ms/sample - loss: 0.0389 - acc: 0.9823 - val_loss: 0.2672 - val_acc: 0.8800\n",
            "Epoch 4/15\n",
            "256/396 [==================>...........] - ETA: 1s - loss: 0.0322 - acc: 0.9883\n",
            "Epoch 00004: val_loss did not improve from 0.24852\n",
            "396/396 [==============================] - 4s 10ms/sample - loss: 0.0450 - acc: 0.9798 - val_loss: 0.2593 - val_acc: 0.8600\n",
            "Epoch 5/15\n",
            "256/396 [==================>...........] - ETA: 1s - loss: 0.0357 - acc: 0.9883\n",
            "Epoch 00005: val_loss did not improve from 0.24852\n",
            "396/396 [==============================] - 4s 10ms/sample - loss: 0.0316 - acc: 0.9899 - val_loss: 0.2486 - val_acc: 0.8600\n",
            "Epoch 6/15\n",
            "256/396 [==================>...........] - ETA: 1s - loss: 0.0397 - acc: 0.9844\n",
            "Epoch 00006: val_loss improved from 0.24852 to 0.20639, saving model to sound_classification_Bagus.hdf5\n",
            "396/396 [==============================] - 4s 11ms/sample - loss: 0.0396 - acc: 0.9874 - val_loss: 0.2064 - val_acc: 0.9000\n",
            "Epoch 7/15\n",
            "256/396 [==================>...........] - ETA: 1s - loss: 0.0446 - acc: 0.9844\n",
            "Epoch 00007: val_loss improved from 0.20639 to 0.18497, saving model to sound_classification_Bagus.hdf5\n",
            "396/396 [==============================] - 4s 10ms/sample - loss: 0.0401 - acc: 0.9848 - val_loss: 0.1850 - val_acc: 0.9000\n",
            "Epoch 8/15\n",
            "256/396 [==================>...........] - ETA: 1s - loss: 0.0330 - acc: 0.9883\n",
            "Epoch 00008: val_loss did not improve from 0.18497\n",
            "396/396 [==============================] - 4s 10ms/sample - loss: 0.0288 - acc: 0.9924 - val_loss: 0.2066 - val_acc: 0.8800\n",
            "Epoch 9/15\n",
            "256/396 [==================>...........] - ETA: 1s - loss: 0.0382 - acc: 0.9844\n",
            "Epoch 00009: val_loss did not improve from 0.18497\n",
            "396/396 [==============================] - 4s 10ms/sample - loss: 0.0287 - acc: 0.9899 - val_loss: 0.2561 - val_acc: 0.8600\n",
            "Epoch 10/15\n",
            "256/396 [==================>...........] - ETA: 1s - loss: 0.0500 - acc: 0.9844\n",
            "Epoch 00010: val_loss did not improve from 0.18497\n",
            "396/396 [==============================] - 4s 10ms/sample - loss: 0.0469 - acc: 0.9823 - val_loss: 0.2434 - val_acc: 0.8600\n",
            "Epoch 11/15\n",
            "256/396 [==================>...........] - ETA: 1s - loss: 0.0370 - acc: 0.9883\n",
            "Epoch 00011: val_loss did not improve from 0.18497\n",
            "396/396 [==============================] - 4s 10ms/sample - loss: 0.0323 - acc: 0.9899 - val_loss: 0.2117 - val_acc: 0.8800\n",
            "Epoch 12/15\n",
            "256/396 [==================>...........] - ETA: 1s - loss: 0.0389 - acc: 0.9883\n",
            "Epoch 00012: val_loss did not improve from 0.18497\n",
            "396/396 [==============================] - 4s 10ms/sample - loss: 0.0382 - acc: 0.9874 - val_loss: 0.1994 - val_acc: 0.9000\n",
            "Epoch 13/15\n",
            "256/396 [==================>...........] - ETA: 1s - loss: 0.0420 - acc: 0.9883\n",
            "Epoch 00013: val_loss did not improve from 0.18497\n",
            "396/396 [==============================] - 4s 10ms/sample - loss: 0.0369 - acc: 0.9899 - val_loss: 0.2052 - val_acc: 0.8800\n",
            "Epoch 14/15\n",
            "256/396 [==================>...........] - ETA: 1s - loss: 0.0451 - acc: 0.9844\n",
            "Epoch 00014: val_loss did not improve from 0.18497\n",
            "396/396 [==============================] - 4s 10ms/sample - loss: 0.0452 - acc: 0.9848 - val_loss: 0.2039 - val_acc: 0.8800\n",
            "Epoch 15/15\n",
            "256/396 [==================>...........] - ETA: 1s - loss: 0.0348 - acc: 0.9922\n",
            "Epoch 00015: val_loss improved from 0.18497 to 0.16760, saving model to sound_classification_Bagus.hdf5\n",
            "396/396 [==============================] - 4s 11ms/sample - loss: 0.0302 - acc: 0.9924 - val_loss: 0.1676 - val_acc: 0.9000\n",
            "Training completed in time:  0:01:01.733387\n"
          ],
          "name": "stdout"
        }
      ]
    },
    {
      "cell_type": "markdown",
      "metadata": {
        "id": "0WZy5N7WGwaO",
        "colab_type": "text"
      },
      "source": [
        "# **Melihat Akurasi**\n",
        "dalam training pada case ini dilakukan beberapa kali hingga mendapatkan akurasi mendekati 0.9\n"
      ]
    },
    {
      "cell_type": "code",
      "metadata": {
        "id": "ad0FNwWaYxIw",
        "colab_type": "code",
        "colab": {
          "base_uri": "https://localhost:8080/",
          "height": 51
        },
        "outputId": "28ee20d8-fc26-4937-ff55-e99526b63dde"
      },
      "source": [
        "score = model.evaluate(x_train, y_train, verbose=0)\n",
        "print(\"Training Accuracy: \", score[1])\n",
        "\n",
        "score = model.evaluate(x_test, y_test, verbose=0)\n",
        "print(\"Testing Accuracy: \", score[1])"
      ],
      "execution_count": 115,
      "outputs": [
        {
          "output_type": "stream",
          "text": [
            "Training Accuracy:  0.95454544\n",
            "Testing Accuracy:  0.9\n"
          ],
          "name": "stdout"
        }
      ]
    },
    {
      "cell_type": "markdown",
      "metadata": {
        "id": "LLpVzm2sG_cj",
        "colab_type": "text"
      },
      "source": [
        "# **Membuat Fungsi Untuk Prediksi**"
      ]
    },
    {
      "cell_type": "code",
      "metadata": {
        "id": "jQEE01Zoa84a",
        "colab_type": "code",
        "colab": {}
      },
      "source": [
        "def buat_prediction(file_name):\n",
        "    prediction_feature = extract_features(file_name) \n",
        "    prediction_feature = prediction_feature.reshape(1, num_rows, num_columns, num_channels)\n",
        "\n",
        "    predicted_vector = model.predict_classes(prediction_feature)\n",
        "    predicted_class = le.inverse_transform(predicted_vector) \n",
        "    print(\"The predicted class is:\", predicted_class[0], '\\n') \n",
        "\n",
        "    predicted_proba_vector = model.predict_proba(prediction_feature) \n",
        "    predicted_proba = predicted_proba_vector[0]\n",
        "    for i in range(len(predicted_proba)): \n",
        "        category = le.inverse_transform(np.array([i]))\n",
        "        print(category[0], \"\\t\\t : \", format(predicted_proba[i], '.32f') )"
      ],
      "execution_count": 0,
      "outputs": []
    },
    {
      "cell_type": "code",
      "metadata": {
        "id": "hfk9hGBjbA6d",
        "colab_type": "code",
        "colab": {
          "base_uri": "https://localhost:8080/",
          "height": 119
        },
        "outputId": "87319f60-9053-4e3c-b902-73563ccc968c"
      },
      "source": [
        "#/content/drive/My Drive/SOUND/set_b/Bunlabelledtest__101_1305030823364_A.wav\n",
        "\n",
        "filename = '/content/drive/My Drive/SOUND/set_a/Aunlabelledtest__201012172010.wav' \n",
        "buat_prediction(filename)"
      ],
      "execution_count": 116,
      "outputs": [
        {
          "output_type": "stream",
          "text": [
            "The predicted class is: artifact \n",
            "\n",
            "artifact \t\t :  0.99999845027923583984375000000000\n",
            "extrahls \t\t :  0.00000159803221322363242506980896\n",
            "murmur \t\t :  0.00000000577820324920708117133472\n",
            "normal \t\t :  0.00000000000096079947383559405338\n"
          ],
          "name": "stdout"
        }
      ]
    },
    {
      "cell_type": "code",
      "metadata": {
        "id": "ZZQ8fKkqbwKY",
        "colab_type": "code",
        "colab": {
          "base_uri": "https://localhost:8080/",
          "height": 119
        },
        "outputId": "e5f775e2-4329-467b-cdab-ae3152567bb9"
      },
      "source": [
        "filename = '/content/drive/My Drive/SOUND/set_a/Aunlabelledtest__201108222257.wav' \n",
        "buat_prediction(filename)"
      ],
      "execution_count": 117,
      "outputs": [
        {
          "output_type": "stream",
          "text": [
            "The predicted class is: murmur \n",
            "\n",
            "artifact \t\t :  0.00000000000049246267870908799758\n",
            "extrahls \t\t :  0.00000000000000670764247436201645\n",
            "murmur \t\t :  0.99849021434783935546875000000000\n",
            "normal \t\t :  0.00150972185656428337097167968750\n"
          ],
          "name": "stdout"
        }
      ]
    }
  ]
}